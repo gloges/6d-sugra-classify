{
 "cells": [
  {
   "cell_type": "markdown",
   "metadata": {},
   "source": [
    "# Example Classification: $G=\\mathrm{SU}(7)^a\\times\\mathrm{SU}(8)^b$\n",
    "\n",
    "This notebook demonstrates the enumeration of all irreducible cliques with gauge group $\\mathrm{SU}(7)^a\\times\\mathrm{SU}(8)^b$ satisfying the bound $\\Delta+28n_-^\\mathfrak{g} + T_\\text{min} \\leq 273$, and with any number of tensors $T$ and any hypermultiplet representations."
   ]
  },
  {
   "cell_type": "code",
   "execution_count": null,
   "metadata": {},
   "outputs": [],
   "source": [
    "import numpy as np\n",
    "import matplotlib.pyplot as plt\n",
    "from matplotlib import colors\n",
    "import colorcet as cc\n",
    "from tqdm import tqdm\n",
    "\n",
    "import sys\n",
    "sys.path.append('./src')\n",
    "\n",
    "from graph import Graph\n",
    "from irreducibleClique import unique_cliques"
   ]
  },
  {
   "cell_type": "code",
   "execution_count": null,
   "metadata": {},
   "outputs": [],
   "source": [
    "plt.rcParams['figure.dpi'] = 100\n",
    "plt.rcParams['text.usetex'] = True\n",
    "plt.rcParams['text.latex.preamble'] = '\\\\usepackage{amssymb} \\\\usepackage{amsmath}'\n",
    "colA = '#E06836'\n",
    "colB = '#4B9423'"
   ]
  },
  {
   "attachments": {},
   "cell_type": "markdown",
   "metadata": {},
   "source": [
    "## Graph initialization\n",
    "\n",
    "Start by creating the multigraph with vertices for $A_6\\sim\\mathrm{SU}(7)$ and $A_7\\sim\\mathrm{SU}(8)$ out to a maximum value of $\\Delta_i\\leq 400$."
   ]
  },
  {
   "cell_type": "code",
   "execution_count": null,
   "metadata": {},
   "outputs": [],
   "source": [
    "Δ_schedule = [\n",
    "    ['A', [[6, 400], [7, 400]]]\n",
    "]\n",
    "\n",
    "graph = Graph(Δ_schedule, progress=True)"
   ]
  },
  {
   "cell_type": "markdown",
   "metadata": {},
   "source": [
    "Let's visualize the distribution of vertices according to their values of $\\Delta_i$ and $b_i\\cdot b_i$:"
   ]
  },
  {
   "cell_type": "code",
   "execution_count": null,
   "metadata": {},
   "outputs": [],
   "source": [
    "Δ_bibi_typeA = np.array([[vertex.Δ, vertex.bibi] for vertex in graph.vertices if vertex.type == 'A']).T\n",
    "Δ_bibi_typeB = np.array([[vertex.Δ, vertex.bibi] for vertex in graph.vertices if vertex.type == 'B']).T\n",
    "\n",
    "fig, ax = plt.subplots(1, 1, figsize=(8,4))\n",
    "\n",
    "plt.plot(Δ_bibi_typeA[0], Δ_bibi_typeA[1], '.', c=colA, ms=3, label='type A')\n",
    "plt.plot(Δ_bibi_typeB[0], Δ_bibi_typeB[1], '.', c=colB, ms=5, label='type B')\n",
    "\n",
    "plt.axhline(0, lw=0.5, c='k', zorder=0)\n",
    "plt.axvline(0, lw=0.5, c='k', zorder=0)\n",
    "plt.axvline(273, ls='--', c='gray', zorder=0)\n",
    "\n",
    "plt.xlabel('$\\Delta_i$')\n",
    "plt.ylabel('$b_i\\cdot b_i$')\n",
    "\n",
    "plt.legend()\n",
    "\n",
    "plt.show()"
   ]
  },
  {
   "cell_type": "markdown",
   "metadata": {},
   "source": [
    "There are exactly eleven type-B vertices $(b_i\\cdot b_i\\leq 0)$:"
   ]
  },
  {
   "cell_type": "code",
   "execution_count": null,
   "metadata": {},
   "outputs": [],
   "source": [
    "for vertex in graph.vertices:\n",
    "    if vertex.type == 'B':\n",
    "        vertex.display()"
   ]
  },
  {
   "cell_type": "markdown",
   "metadata": {},
   "source": [
    "## Irreducible cliques"
   ]
  },
  {
   "cell_type": "markdown",
   "metadata": {},
   "source": [
    "Type-A and type-B cliques are build by branching by individual vertices one-by-one. Type-AB cliques are then build by attaching type-B cliques to type-A cliques via only A-B nontrivial edges."
   ]
  },
  {
   "cell_type": "markdown",
   "metadata": {},
   "source": [
    "### Type-A irreducible cliques"
   ]
  },
  {
   "cell_type": "markdown",
   "metadata": {},
   "source": [
    "First construct all type-A irreducible cliques. Even with no pruning related to $\\Delta+28n_-^\\mathfrak{g}$ the branching quickly peters out at $4$-cliques."
   ]
  },
  {
   "cell_type": "code",
   "execution_count": null,
   "metadata": {},
   "outputs": [],
   "source": [
    "# type-B cliques organized by k\n",
    "irreducible_cliques_A = [[], [vertex.get_simple_clique(graph) for vertex in graph.vertices if vertex.type == 'A']]\n",
    "\n",
    "while len(irreducible_cliques_A[-1]) > 0:\n",
    "    # Produce (k+1)-cliques from k-cliques\n",
    "    cliques_branched = []\n",
    "\n",
    "    for clique in tqdm(irreducible_cliques_A[-1], desc=f'Branching {len(irreducible_cliques_A)-1:2}-cliques'):\n",
    "        # Augment by one vertex and prune\n",
    "        cliques_new = [clq for clq in clique.branch_by_vertex() if clq.prune_function(improved=False) <= 300]\n",
    "        cliques_branched.extend(cliques_new)\n",
    "\n",
    "    # Remove duplicates and save\n",
    "    cliques_branched = unique_cliques(cliques_branched)\n",
    "    irreducible_cliques_A.append(cliques_branched)\n",
    "\n",
    "# Prepare for adding type-B vertices by changing branching mode\n",
    "for k_cliques in irreducible_cliques_A:\n",
    "    for clique in k_cliques:\n",
    "        clique.branching_mode = 'B'"
   ]
  },
  {
   "cell_type": "markdown",
   "metadata": {},
   "source": [
    "### Type-B irreducible cliques"
   ]
  },
  {
   "cell_type": "markdown",
   "metadata": {},
   "source": [
    "Now construct all type-B irreducible cliques, using a fairly crude bound to determine when to prune.<br>\n",
    "The branch-and-prune process terminates at $(13\\sim14)$-cliques."
   ]
  },
  {
   "cell_type": "code",
   "execution_count": null,
   "metadata": {},
   "outputs": [],
   "source": [
    "# type-B cliques organized by k\n",
    "irreducible_cliques_B = [[], [vertex.get_simple_clique(graph) for vertex in graph.vertices if vertex.type == 'B']]\n",
    "\n",
    "while len(irreducible_cliques_B[-1]) > 0:\n",
    "    # Produce k-cliques from (k-1)-cliques\n",
    "    cliques_branched = []\n",
    "\n",
    "    for clique in tqdm(irreducible_cliques_B[-1], desc=f'Branching {len(irreducible_cliques_B)-1:2}-cliques'):\n",
    "        # Augment by one vertex and prune\n",
    "        cliques_new = [clq for clq in clique.branch_by_vertex() if clq.prune_function(improved=False) <= 300]\n",
    "        cliques_branched.extend(cliques_new)\n",
    "\n",
    "    # Remove duplicates and save\n",
    "    cliques_branched = unique_cliques(cliques_branched)\n",
    "    irreducible_cliques_B.append(cliques_branched)"
   ]
  },
  {
   "cell_type": "markdown",
   "metadata": {},
   "source": [
    "At this point one could record data about type-B cliques which have $f_{1/2} < 0$ to improve the pruning of type-AB cliques below (for these two simple groups there are no cliques with $f_{1/2} < 0$):"
   ]
  },
  {
   "cell_type": "code",
   "execution_count": null,
   "metadata": {},
   "outputs": [],
   "source": [
    "for k_cliques in irreducible_cliques_B:\n",
    "    for clique in k_cliques:\n",
    "        graph.update_neg_values(clique)\n",
    "\n",
    "graph.vertex_neg_values"
   ]
  },
  {
   "cell_type": "markdown",
   "metadata": {},
   "source": [
    "### Type-AB irreducible cliques"
   ]
  },
  {
   "cell_type": "markdown",
   "metadata": {},
   "source": [
    "Complete the construction of irreducible cliques by joining type-B cliques to type-A cliques.\n",
    "First, collect type-B cliques which either have $n_+^\\mathfrak{g}=0$ or $n_+^{\\overline{\\mathfrak{g}}}=0$ ($\\overline{\\mathfrak{g}}$ denoting $\\mathfrak{g}=b_i\\cdot b_j$ but with active vertices removed)."
   ]
  },
  {
   "cell_type": "code",
   "execution_count": null,
   "metadata": {},
   "outputs": [],
   "source": [
    "cliques_B_n_pos_0 = []\n",
    "cliques_B_n_pos_restricted_0 = []\n",
    "\n",
    "for k_cliques in irreducible_cliques_B:\n",
    "    for clique in k_cliques:\n",
    "        if len(clique.active_vertices) == 0:\n",
    "            continue\n",
    "\n",
    "        if clique.n_pos_bibj == 0:\n",
    "            cliques_B_n_pos_0.append(clique)\n",
    "            continue\n",
    "\n",
    "        n_pos_restricted = clique.signature_gram_bibj_restricted(clique.active_vertices)[0]\n",
    "        if n_pos_restricted == 0:\n",
    "            cliques_B_n_pos_restricted_0.append(clique)\n",
    "\n",
    "order = np.argsort([clique.f(0.5, False) for clique in cliques_B_n_pos_0])\n",
    "cliques_B_n_pos_0 = [cliques_B_n_pos_0[ii] for ii in order]\n",
    "\n",
    "print(len(cliques_B_n_pos_0), len(cliques_B_n_pos_restricted_0))"
   ]
  },
  {
   "cell_type": "markdown",
   "metadata": {},
   "source": [
    "For each type-A clique, build type-AB cliques separately:"
   ]
  },
  {
   "cell_type": "code",
   "execution_count": null,
   "metadata": {},
   "outputs": [],
   "source": [
    "cliques_AB = []\n",
    "nA_max = 0\n",
    "nB_max = len(irreducible_cliques_B)\n",
    "for k_cliques in irreducible_cliques_A:\n",
    "    for clique in tqdm(k_cliques):\n",
    "        cliques_AB.extend(clique.build_AB_cliques(cliques_B_n_pos_0, cliques_B_n_pos_restricted_0))\n",
    "        nA_max = max(nA_max, clique.num_AB[0])\n",
    "        nB_max = max(nB_max, clique.num_AB[1])"
   ]
  },
  {
   "cell_type": "markdown",
   "metadata": {},
   "source": [
    "### Bounded irreducible cliques\n",
    "Restrict to irreducible cliques satisfying $\\Delta+28n_-^\\mathfrak{g} + T_\\text{min} \\leq 273$ and mark all participating vertices as 'used'"
   ]
  },
  {
   "cell_type": "code",
   "execution_count": null,
   "metadata": {},
   "outputs": [],
   "source": [
    "irreducible_cliques_bounded = [[[] for _ in range(nB_max+1)] for _ in range(nA_max+1)]\n",
    "\n",
    "irreducible_cliques_B_flat = [aa for bb in irreducible_cliques_B for aa in bb]\n",
    "\n",
    "for clique in [*irreducible_cliques_B_flat, *cliques_AB]:\n",
    "    nA, nB = clique.num_AB\n",
    "    if clique.Δ_28n + clique.T_min <= 273:\n",
    "        irreducible_cliques_bounded[nA][nB].append(clique)\n",
    "\n",
    "        for vertex in clique.vertices:\n",
    "            vertex.used = True\n",
    "\n",
    "maxdigs = int(np.log10(np.max([[len(aa) for aa in row] for row in irreducible_cliques_bounded]))) + 1\n",
    "print('NA╲NB │  ' + '  '.join([f'{ii:{maxdigs}}' for ii in range(nB_max+1)]))\n",
    "print(6*'─' + '┼' + ((nB_max+1)*(maxdigs+2))*'─')\n",
    "for nA, cliques_by_A in enumerate(irreducible_cliques_bounded):\n",
    "    print(f'{nA:5} │', end='  ')\n",
    "    for cliques_by_AB in cliques_by_A:\n",
    "        if len(cliques_by_AB) > 0:\n",
    "            print(f'{len(cliques_by_AB):{maxdigs}}', end='  ')\n",
    "        else:\n",
    "            print(end=(maxdigs+2)*' ')\n",
    "    print()"
   ]
  },
  {
   "cell_type": "markdown",
   "metadata": {},
   "source": [
    "Looking at the distribution of 'used' vertices retroactively justifies the choice $\\Delta_\\text{max}=400$:"
   ]
  },
  {
   "cell_type": "code",
   "execution_count": null,
   "metadata": {},
   "outputs": [],
   "source": [
    "Δ_bibi_used = np.array([[vertex.Δ, vertex.bibi] for vertex in graph.vertices if     vertex.used]).T\n",
    "Δ_bibi_not  = np.array([[vertex.Δ, vertex.bibi] for vertex in graph.vertices if not vertex.used]).T\n",
    "\n",
    "fig, ax = plt.subplots(1, 1, figsize=(10,4))\n",
    "\n",
    "plt.plot(Δ_bibi_used[0], Δ_bibi_used[1], '.', c='g', ms=5,   label='used')\n",
    "plt.plot(Δ_bibi_not[0],  Δ_bibi_not[1],  '.', c='r', ms=3, label='not')\n",
    "\n",
    "plt.axvline(273, ls='--', c='gray', zorder=0)\n",
    "\n",
    "plt.xlabel('$\\Delta_i$')\n",
    "plt.ylabel('$b_i\\cdot b_i$')\n",
    "\n",
    "plt.legend()\n",
    "\n",
    "plt.show()"
   ]
  },
  {
   "cell_type": "markdown",
   "metadata": {},
   "source": [
    "### Irreducible clique distributions"
   ]
  },
  {
   "cell_type": "code",
   "execution_count": null,
   "metadata": {},
   "outputs": [],
   "source": [
    "binwidth = 5\n",
    "data = np.zeros([2, 13, 300//binwidth], dtype='int')\n",
    "for cliques_by_A in irreducible_cliques_bounded:\n",
    "    for cliques_by_AB in cliques_by_A:\n",
    "        for clique in cliques_by_AB:\n",
    "            data[clique.n_pos_bibj, clique.k, clique.Δ_28n//binwidth] += 1\n",
    "vmax = np.max(data)\n",
    "\n",
    "fig, axes = plt.subplots(2, 1, figsize=(10,4), sharex=True)\n",
    "\n",
    "for data_npos, ax in zip(data, axes):\n",
    "    im = ax.imshow(data_npos, origin='lower', extent=(0, 300,-0.5,12.5),\n",
    "                    aspect='auto', cmap='cet_CET_L8', norm=colors.LogNorm(vmax=vmax))\n",
    "    ax.set_yticks(range(0, 13, 2))\n",
    "    ax.set_ylabel('$k$')\n",
    "    ax.set_facecolor('0.9')\n",
    "\n",
    "axes[0].text(0.03, 0.8, '$n_+^\\mathfrak{g} = 0$', transform=axes[0].transAxes, bbox=dict(facecolor='w', alpha=0.9))\n",
    "axes[1].text(0.03, 0.8, '$n_+^\\mathfrak{g} = 1$', transform=axes[1].transAxes, bbox=dict(facecolor='w', alpha=0.9))\n",
    "plt.xticks([*np.arange(0, 301, 50), 273])\n",
    "plt.xlabel('$\\Delta+28n_-^\\mathfrak{g}$')\n",
    "plt.tight_layout()\n",
    "\n",
    "plt.colorbar(im, ax=axes.ravel().tolist(), pad=0.02)\n",
    "plt.show()"
   ]
  },
  {
   "cell_type": "markdown",
   "metadata": {},
   "source": [
    "From these bounded irreducible cliques one can build anomaly-free theories in a straightforward way using the bound\n",
    "$$ \\sum_\\alpha (\\Delta+28n_-^\\mathfrak{g})(C_\\alpha) \\leq 273 $$\n",
    "as a guide."
   ]
  }
 ],
 "metadata": {
  "kernelspec": {
   "display_name": "base",
   "language": "python",
   "name": "python3"
  },
  "language_info": {
   "codemirror_mode": {
    "name": "ipython",
    "version": 3
   },
   "file_extension": ".py",
   "mimetype": "text/x-python",
   "name": "python",
   "nbconvert_exporter": "python",
   "pygments_lexer": "ipython3",
   "version": "3.9.16"
  },
  "orig_nbformat": 4,
  "vscode": {
   "interpreter": {
    "hash": "f9fec4fabdb56b7f1e2bedc0a03b6701b62b961cf101679b1d6ebdae236e12e0"
   }
  }
 },
 "nbformat": 4,
 "nbformat_minor": 2
}
